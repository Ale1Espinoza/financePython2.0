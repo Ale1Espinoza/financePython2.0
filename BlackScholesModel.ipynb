{
 "cells": [
  {
   "cell_type": "markdown",
   "id": "209914ec-fca5-41d4-b0d6-43c40bbb2329",
   "metadata": {},
   "source": [
    "## Modelo Black-Scholes\n",
    "Considerada una de las mejores vías para determinar el fair price de las opciones, son requeridas cinco variables: cotización del subyacente (S), strike price de la opción (K), DTE (T), tasa libre de riesgo (r) y volatilidad (sigma)."
   ]
  },
  {
   "cell_type": "markdown",
   "id": "89449039-5c4f-482e-8c24-59188a6c4bd9",
   "metadata": {},
   "source": [
    "Tener en cuenta limitaciones y consideraciones del modelo:\n",
    "- La opción solo se puede ejercer en el vencimiento (opción europea).\n",
    "- No considera pago de dividendos durante la vigencia del contrato de opción.\n",
    "- No existen costos de transacción y comisiones al comerciar con opciones.\n",
    "- Asume una distribución normal de los retornos del subyacente."
   ]
  },
  {
   "cell_type": "code",
   "execution_count": 17,
   "id": "2145002e-cd91-4158-a7d6-12e7824ab8e4",
   "metadata": {},
   "outputs": [],
   "source": [
    "from datetime import datetime, date\n",
    "import numpy as np\n",
    "import pandas as pd\n",
    "from scipy.stats import norm\n",
    "import yfinance as yf\n",
    "from pandas_datareader import data as pdr\n",
    "yf.pdr_override()"
   ]
  },
  {
   "cell_type": "markdown",
   "id": "60a6ac44-ad37-4072-bc1d-ea9b054d48ac",
   "metadata": {},
   "source": [
    "### Estableciendo los valores de las variables S, X, T, r, y sigma"
   ]
  },
  {
   "cell_type": "code",
   "execution_count": 18,
   "id": "4132a6b4-02dd-437f-88d3-fc1641222833",
   "metadata": {},
   "outputs": [
    {
     "name": "stdout",
     "output_type": "stream",
     "text": [
      "[*********************100%***********************]  1 of 1 completed\n",
      "398.5400085449219\n"
     ]
    }
   ],
   "source": [
    "# precio del subyacente (última cierre)\n",
    "df = pdr.get_data_yahoo('SPY', period='1y')\n",
    "S = df['Close'].iloc[-1]\n",
    "print(S)"
   ]
  },
  {
   "cell_type": "code",
   "execution_count": 19,
   "id": "a92ca8a6-257e-43bd-8777-3e44c0deef5f",
   "metadata": {},
   "outputs": [],
   "source": [
    "# definiendo un strike price manualmente\n",
    "K = 390"
   ]
  },
  {
   "cell_type": "code",
   "execution_count": 20,
   "id": "f6e396c3-5967-4219-927f-2becb36f1211",
   "metadata": {},
   "outputs": [
    {
     "name": "stdout",
     "output_type": "stream",
     "text": [
      "0.057534246575342465\n"
     ]
    }
   ],
   "source": [
    "# tiempo de expiración de la opción (DTE)\n",
    "expiry = '03-17-2023'\n",
    "# se utiliza \"datetime.strptime\" para cambiar la fecha a formato string y poder trabajar con ella\n",
    "T = (datetime.strptime(expiry, \"%m-%d-%Y\") - datetime.utcnow()).days/365\n",
    "print(T) # nos da un % respecto a los 365 días"
   ]
  },
  {
   "cell_type": "code",
   "execution_count": 21,
   "id": "639c06b2-eb2a-4a1e-8b3d-09c4f940f72e",
   "metadata": {},
   "outputs": [
    {
     "name": "stdout",
     "output_type": "stream",
     "text": [
      "[*********************100%***********************]  1 of 1 completed\n",
      "0.03965000152587891\n"
     ]
    }
   ],
   "source": [
    "# obteniendo r, el rendimiento de los bonos del tesoro a 10 años\n",
    "r = (pdr.get_data_yahoo('^TNX', period='1y')['Close'].iloc[-1])/100\n",
    "print(r)"
   ]
  },
  {
   "cell_type": "code",
   "execution_count": 22,
   "id": "af3a1e50-4411-4ea2-ab26-43d605b55af5",
   "metadata": {},
   "outputs": [
    {
     "name": "stdout",
     "output_type": "stream",
     "text": [
      "0.23963756199817404\n"
     ]
    }
   ],
   "source": [
    "# sigma o valatilidad (realized)\n",
    "returns = df['Close'].pct_change()\n",
    "sigma = returns.std()*np.sqrt(252)\n",
    "print(sigma)"
   ]
  },
  {
   "cell_type": "code",
   "execution_count": 23,
   "id": "381c9178-feeb-4193-bc31-1c4c8def086d",
   "metadata": {},
   "outputs": [
    {
     "name": "stdout",
     "output_type": "stream",
     "text": [
      "398.5400085449219 390 0.057534246575342465 0.03965000152587891 0.23963756199817404\n"
     ]
    }
   ],
   "source": [
    "# listas las variables\n",
    "print(S, K, T, r, sigma)"
   ]
  },
  {
   "cell_type": "markdown",
   "id": "45e2b8a7-f1c4-46b0-8c43-86f3444824ee",
   "metadata": {
    "tags": []
   },
   "source": [
    "### Definiendo la función Black-Scholes"
   ]
  },
  {
   "attachments": {
    "5112f30f-fd96-44b2-ae3a-81523f0e8231.jpg": {
     "image/jpeg": "[encoded data removed]"
    }
   },
   "cell_type": "markdown",
   "id": "d1b7b27d-f023-42e8-aecf-0e52b4d07817",
   "metadata": {},
   "source": [
    "![black-scholes model.jpg](attachment:5112f30f-fd96-44b2-ae3a-81523f0e8231.jpg)"
   ]
  },
  {
   "cell_type": "code",
   "execution_count": 24,
   "id": "d76a70bd-a6b2-4e8d-bff7-7e83a1460c08",
   "metadata": {},
   "outputs": [],
   "source": [
    "def black_scholes(S, K, T, r, sigma, option): \n",
    "    d1 = (np.log(S/K)+(r+sigma**2/2)*T)/(sigma*np.sqrt(T))\n",
    "    d2 = d1-sigma*np.sqrt(T)\n",
    "    \n",
    "    N = norm.cdf\n",
    "\n",
    "    if option == 'call':\n",
    "        price = S*N(d1)-K*np.exp(-r*T)*N(d2)\n",
    "    elif option == 'put':\n",
    "        price = K*np.exp(-r*T)*N(-d2)-S*N(-d1)\n",
    "\n",
    "    return price"
   ]
  },
  {
   "cell_type": "markdown",
   "id": "59a92ba5-7a6a-4796-9636-971033e7e92b",
   "metadata": {},
   "source": [
    "### Definiendo outputs"
   ]
  },
  {
   "cell_type": "code",
   "execution_count": 27,
   "id": "6eb1dc82-23b0-4e33-990e-5460fe18cae1",
   "metadata": {
    "tags": []
   },
   "outputs": [
    {
     "name": "stdout",
     "output_type": "stream",
     "text": [
      "14.52\n"
     ]
    }
   ],
   "source": [
    "# el valor teórico de una opción call sería:\n",
    "print(round(black_scholes(S, K, T, r, sigma, option='call'),  2))"
   ]
  },
  {
   "cell_type": "code",
   "execution_count": 28,
   "id": "a8531994-28b1-408c-860c-91fa5e5e9da7",
   "metadata": {},
   "outputs": [
    {
     "name": "stdout",
     "output_type": "stream",
     "text": [
      "5.09\n"
     ]
    }
   ],
   "source": [
    "# el valor teórico de una opción put sería:\n",
    "print(round(black_scholes(S, K, T, r, sigma, option='put'),  2))"
   ]
  }
 ],
 "metadata": {
  "kernelspec": {
   "display_name": "Python 3 (ipykernel)",
   "language": "python",
   "name": "python3"
  },
  "language_info": {
   "codemirror_mode": {
    "name": "ipython",
    "version": 3
   },
   "file_extension": ".py",
   "mimetype": "text/x-python",
   "name": "python",
   "nbconvert_exporter": "python",
   "pygments_lexer": "ipython3",
   "version": "3.9.12"
  }
 },
 "nbformat": 4,
 "nbformat_minor": 5
}
